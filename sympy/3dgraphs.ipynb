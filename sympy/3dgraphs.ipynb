{
 "cells": [
  {
   "cell_type": "markdown",
   "metadata": {},
   "source": [
    "## Import necessary 3d plotting modules"
   ]
  },
  {
   "cell_type": "code",
   "execution_count": 1,
   "metadata": {
    "collapsed": false
   },
   "outputs": [],
   "source": [
    "import matplotlib.pyplot as plt\n",
    "from mpl_toolkits.mplot3d import Axes3D\n",
    "%matplotlib qt"
   ]
  },
  {
   "cell_type": "markdown",
   "metadata": {},
   "source": [
    "## A 3d parametric curve"
   ]
  },
  {
   "cell_type": "code",
   "execution_count": 3,
   "metadata": {
    "collapsed": false
   },
   "outputs": [],
   "source": [
    "import numpy as np\n",
    "\n",
    "t = np.linspace(0,6*np.pi,400)\n",
    "z = t**2\n",
    "x = np.cos(t)\n",
    "y = np.sin(t)\n",
    "\n",
    "fig = plt.figure()\n",
    "ax = fig.add_subplot(111,projection='3d')\n",
    "ax.plot(x,y,z, label='helix', linewidth=2, color='black')\n",
    "ax.legend()\n",
    "\n",
    "plt.show()\n"
   ]
  },
  {
   "cell_type": "markdown",
   "metadata": {
    "collapsed": true
   },
   "source": [
    "## A 3d graph"
   ]
  },
  {
   "cell_type": "code",
   "execution_count": 39,
   "metadata": {
    "collapsed": false
   },
   "outputs": [],
   "source": [
    "from matplotlib import cm\n",
    "\n",
    "x = np.linspace(-2,2,100)\n",
    "y = np.linspace(-2,2,100)\n",
    "\n",
    "x,y = np.meshgrid(x,y)\n",
    "z = np.sin(x)*np.cos(y)\n",
    "\n",
    "\n",
    "fig = plt.figure()\n",
    "ax = fig.add_subplot(111,projection='3d')\n",
    "ax.plot_surface(x,y,z, rstride=2, cstride=2, \n",
    "                #cmap=cm.jet,\n",
    "                alpha = 0.5,\n",
    "                linewidth=0)\n",
    "\n",
    "plt.show()\n"
   ]
  },
  {
   "cell_type": "markdown",
   "metadata": {},
   "source": [
    "## Partial derivative demo"
   ]
  },
  {
   "cell_type": "code",
   "execution_count": 67,
   "metadata": {
    "collapsed": false
   },
   "outputs": [],
   "source": [
    "fig = plt.figure()\n",
    "ax = fig.add_subplot(111,projection='3d')\n",
    "from matplotlib import cm\n",
    "\n",
    "\n",
    "\n",
    "\n",
    "# # xy plane\n",
    "# x = np.linspace(0,2,100)\n",
    "# y = np.linspace(0,2,100)\n",
    "# x,y = np.meshgrid(x,y)\n",
    "# z = 0\n",
    "# ax.plot_surface(x,y,z, rstride=10, cstride=10, \n",
    "#                 #cmap=cm.jet,\n",
    "#                 alpha = 0.1,\n",
    "#                 linewidth=0)\n",
    "\n",
    "\n",
    "\n",
    "\n",
    "\n",
    "# point at which derivatives taken\n",
    "a = 1\n",
    "b = 0.5\n",
    "t = np.linspace(-1,1,100)\n",
    "\n",
    "# x direction\n",
    "x = a + t\n",
    "y = b + 0*t\n",
    "z = np.sin(a)*np.cos(b)\n",
    "ax.plot(x,y,z, '--', color='black')\n",
    "\n",
    "\n",
    "# x direction on graph\n",
    "x = a + t\n",
    "y = b + 0*t\n",
    "z = np.sin(x)*np.cos(y)\n",
    "ax.plot(x,y,z, linewidth=1, color='black')\n",
    "\n",
    "\n",
    "\n",
    "# function\n",
    "x = np.linspace(0,2,50)\n",
    "y = np.linspace(0,2,50)\n",
    "\n",
    "x,y = np.meshgrid(x,y)\n",
    "z = np.sin(x)*np.cos(y)\n",
    "\n",
    "ax.plot_surface(x,y,z, rstride=2, cstride=2, \n",
    "                cmap=cm.Accent_r,\n",
    "                alpha = 1,\n",
    "                linewidth=0)\n",
    "\n",
    "\n",
    "\n",
    "plt.show()"
   ]
  },
  {
   "cell_type": "code",
   "execution_count": null,
   "metadata": {
    "collapsed": true
   },
   "outputs": [],
   "source": []
  }
 ],
 "metadata": {
  "kernelspec": {
   "display_name": "Python 2",
   "language": "python",
   "name": "python2"
  },
  "language_info": {
   "codemirror_mode": {
    "name": "ipython",
    "version": 2
   },
   "file_extension": ".py",
   "mimetype": "text/x-python",
   "name": "python",
   "nbconvert_exporter": "python",
   "pygments_lexer": "ipython2",
   "version": "2.7.13"
  }
 },
 "nbformat": 4,
 "nbformat_minor": 2
}
