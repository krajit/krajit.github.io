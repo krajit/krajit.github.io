{
 "cells": [
  {
   "cell_type": "markdown",
   "metadata": {},
   "source": [
    "## Setting up python environment"
   ]
  },
  {
   "cell_type": "code",
   "execution_count": 1,
   "metadata": {
    "collapsed": true
   },
   "outputs": [],
   "source": [
    "# reset all previously defined varibles\n",
    "%reset -f\n",
    "\n",
    "# import everything from sympy moduleb \n",
    "from sympy import *\n",
    "\n",
    "# pretty math formatting\n",
    "init_printing()   # latex"
   ]
  },
  {
   "cell_type": "markdown",
   "metadata": {},
   "source": [
    "### Symbolic variables must be declared"
   ]
  },
  {
   "cell_type": "code",
   "execution_count": 2,
   "metadata": {
    "collapsed": false
   },
   "outputs": [],
   "source": [
    "x,y,z = symbols('x y z')\n",
    "t     = symbols('t')"
   ]
  },
  {
   "cell_type": "markdown",
   "metadata": {},
   "source": [
    "## Example\n",
    "\n",
    "Evaluate the line integral $\\int_C y \\, ds$ along the parabola $y = 2\\sqrt{x}$ from $A(3,2\\sqrt{3})$ to $B (24,  4\\sqrt{6})$."
   ]
  },
  {
   "cell_type": "code",
   "execution_count": 3,
   "metadata": {
    "collapsed": false
   },
   "outputs": [
    {
     "data": {
      "image/png": "[encoded data removed]",
      "text/latex": [
       "$$156$$"
      ],
      "text/plain": [
       "156"
      ]
     },
     "execution_count": 3,
     "metadata": {},
     "output_type": "execute_result"
    }
   ],
   "source": [
    "x = t\n",
    "y = 2*sqrt(t)\n",
    "\n",
    "f = y  \n",
    "\n",
    "s = sqrt( diff(x,t)**2 + diff(y,t)**2 )\n",
    "\n",
    "# integration\n",
    "integrate(f*s,[t,3,24])\n"
   ]
  },
  {
   "cell_type": "markdown",
   "metadata": {},
   "source": [
    "---------------------------------\n",
    "## Example \n",
    "\n",
    "Find the work done by the vector field $\\mathbf{F} = r^2 \\mathbf{i}$ in moving a particle along the helix $x = \\cos{t}, y = \\sin{t}, z = t$ from the point $(1,0,0)$ to $(1,0,4 \\pi)$.\n",
    "\n",
    "Note: $r^2 = x^2 + y^2 + z^2$\n"
   ]
  },
  {
   "cell_type": "code",
   "execution_count": 4,
   "metadata": {
    "collapsed": false
   },
   "outputs": [
    {
     "data": {
      "image/png": "[encoded data removed]",
      "text/latex": [
       "$$16 \\pi^{2}$$"
      ],
      "text/plain": [
       "    2\n",
       "16⋅π "
      ]
     },
     "execution_count": 4,
     "metadata": {},
     "output_type": "execute_result"
    }
   ],
   "source": [
    "x = cos(t)\n",
    "y = sin(t)\n",
    "z = t\n",
    "\n",
    "F = [x**2 + y**2 + z**2  , 0   , 0]\n",
    "\n",
    "integrate(\n",
    "          F[0]*diff(x,t) + F[1]*diff(y,t) + F[2]*diff(z,t),\n",
    "          [t,0,4*pi]\n",
    "         )\n",
    "\n"
   ]
  },
  {
   "cell_type": "markdown",
   "metadata": {},
   "source": [
    "---------------------------\n",
    "## Example\n",
    "\n",
    "Evaluate $\\displaystyle \\int_A^B 2xy\\,dx + (x^2 - y^2)\\, dy$ along the arc of the circle $x^2 + y^2 = 1$ in the first quadrant from $A(1,0)$ to $B(1,0)$."
   ]
  },
  {
   "cell_type": "code",
   "execution_count": 5,
   "metadata": {
    "collapsed": false
   },
   "outputs": [
    {
     "data": {
      "image/png": "[encoded data removed]",
      "text/latex": [
       "$$- \\frac{1}{3}$$"
      ],
      "text/plain": [
       "-1/3"
      ]
     },
     "execution_count": 5,
     "metadata": {},
     "output_type": "execute_result"
    }
   ],
   "source": [
    "x = cos(t)\n",
    "y = sin(t)\n",
    "\n",
    "F = [2*x*y, x**2 - y**2]\n",
    "\n",
    "integrate(\n",
    "          F[0]*diff(x,t) + F[1]*diff(y,t),\n",
    "          [t,0,pi/2]\n",
    "         )"
   ]
  },
  {
   "cell_type": "markdown",
   "metadata": {},
   "source": [
    "-------------------\n",
    "## Example\n",
    "\n",
    "Prove that $\\displaystyle \\mathbf{F} = (y^2 \\cos{x} + z^3)\\mathbf{i} + (2y \\sin{x} - 4)\\mathbf{j} +(3xz^2 + z) \\mathbf{k}$ is a conservative force field. Hence find the work done in moving an object in this field from point $(0,1,-1)$ to $(\\pi/2, -1, 2)$."
   ]
  },
  {
   "cell_type": "markdown",
   "metadata": {},
   "source": [
    "### Note:\n",
    "\n",
    "If a vector field $\\mathbf{F} = F_1 \\mathbf{i} + F_2 \\mathbf{j} +  F_3 \\mathbf{k\n",
    "} $ is conservative then\n",
    "\n",
    "$$\n",
    "\\mathbf{curl} (\\mathbf{F}) = \\left| \n",
    "\\begin{array}{ccc}\n",
    "\\mathbf{i} & \\mathbf{j} & \\mathbf{k} \\\\\n",
    "\\frac{\\partial}{\\partial x} & \\frac{\\partial}{\\partial y} & \\frac{\\partial}{\\partial z} \\\\\n",
    "F_1 & F_2 & F_3\n",
    "\\end{array}\n",
    "\\right| = \\vec{0}\n",
    "$$\n"
   ]
  },
  {
   "cell_type": "code",
   "execution_count": 6,
   "metadata": {
    "collapsed": false
   },
   "outputs": [],
   "source": [
    "# reset variables from previous examples\n",
    "x,y,z = symbols('x y z') \n",
    "\n",
    "def curl(F):\n",
    "    c1 = diff(F[2],y) - diff(F[1],z)\n",
    "    c2 = diff(F[0],z) - diff(F[2],x)\n",
    "    c3 = diff(F[1],x) - diff(F[0],y)\n",
    "    return [c1,c2,c3]"
   ]
  },
  {
   "cell_type": "code",
   "execution_count": 7,
   "metadata": {
    "collapsed": false
   },
   "outputs": [],
   "source": [
    "F = [(y**2 *cos(x) + z**3), 2*y* sin(x) - 4. , 3*x*z**2 + z ]"
   ]
  },
  {
   "cell_type": "code",
   "execution_count": 8,
   "metadata": {
    "collapsed": false
   },
   "outputs": [
    {
     "data": {
      "image/png": "[encoded data removed]",
      "text/latex": [
       "$$\\left [ 0, \\quad 0, \\quad 0\\right ]$$"
      ],
      "text/plain": [
       "[0, 0, 0]"
      ]
     },
     "execution_count": 8,
     "metadata": {},
     "output_type": "execute_result"
    }
   ],
   "source": [
    "curl(F)\n"
   ]
  },
  {
   "cell_type": "markdown",
   "metadata": {},
   "source": [
    "Zero curl implies conservative vector field. \n",
    "\n",
    "-----------------------------------------"
   ]
  },
  {
   "cell_type": "markdown",
   "metadata": {},
   "source": [
    "## Example\n",
    "\n",
    "Evaluate \n",
    "$$\n",
    "\\underset{R}{\n",
    "\\int\\!\\!\\!\\!\\int} (x^2 + y^2) \\, dA\n",
    "$$\n",
    "over the triangle with vertices $(0,0)$, $(2,0)$, and $(1,1)$.\n",
    "\n",
    "![pp1](./images/integration/pp1.png)\n"
   ]
  },
  {
   "cell_type": "code",
   "execution_count": 9,
   "metadata": {
    "collapsed": false
   },
   "outputs": [
    {
     "data": {
      "image/png": "[encoded data removed]",
      "text/latex": [
       "$$\\frac{4}{3}$$"
      ],
      "text/plain": [
       "4/3"
      ]
     },
     "execution_count": 9,
     "metadata": {},
     "output_type": "execute_result"
    }
   ],
   "source": [
    "x,y = symbols('x y')\n",
    "\n",
    "integrate( \n",
    "    integrate(x**2 + y**2, [x,y,2-y]),\n",
    "    [y,0,1])\n"
   ]
  },
  {
   "cell_type": "markdown",
   "metadata": {},
   "source": [
    "--------------------\n",
    "\n",
    "## Example\n",
    "\n",
    "Evaluate \n",
    "\n",
    "$$\n",
    "\\underset{R}{\n",
    "\\int \\!\\!\\! \\int} (x + 2y )^{-1/2} \\, dA\n",
    "$$\n",
    "over the region $x - 2y \\le 1$ and $x \\ge y^2 +1$.\n",
    "\n",
    "![pp2](./images/integration/pp2.png)"
   ]
  },
  {
   "cell_type": "code",
   "execution_count": 10,
   "metadata": {
    "collapsed": false
   },
   "outputs": [
    {
     "data": {
      "image/png": "[encoded data removed]",
      "text/latex": [
       "$$2 \\sqrt{4 y + 1} - 2 \\sqrt{y^{2} + 2 y + 1}$$"
      ],
      "text/plain": [
       "                     ______________\n",
       "    _________       ╱  2           \n",
       "2⋅╲╱ 4⋅y + 1  - 2⋅╲╱  y  + 2⋅y + 1 "
      ]
     },
     "execution_count": 10,
     "metadata": {},
     "output_type": "execute_result"
    }
   ],
   "source": [
    "x,y = symbols('x y')\n",
    "\n",
    "\n",
    "# does not work in one shot\n",
    "integrate((x + 2*y)**(-Rational(1,2)), [x, y**2+1, 1+2*y])\n"
   ]
  },
  {
   "cell_type": "code",
   "execution_count": 11,
   "metadata": {
    "collapsed": false
   },
   "outputs": [
    {
     "data": {
      "image/png": "[encoded data removed]",
      "text/latex": [
       "$$\\frac{2}{3}$$"
      ],
      "text/plain": [
       "2/3"
      ]
     },
     "execution_count": 11,
     "metadata": {},
     "output_type": "execute_result"
    }
   ],
   "source": [
    "#manually simlipy one radical\n",
    "\n",
    "integrate(2*sqrt(4*y + 1) - 2*(y+1),[y,0,2])"
   ]
  },
  {
   "cell_type": "code",
   "execution_count": 14,
   "metadata": {
    "collapsed": false
   },
   "outputs": [
    {
     "data": {
      "image/png": "[encoded data removed]",
      "text/latex": [
       "$$1$$"
      ],
      "text/plain": [
       "1"
      ]
     },
     "execution_count": 14,
     "metadata": {},
     "output_type": "execute_result"
    }
   ],
   "source": [
    "integrate(\n",
    "integrate(x**2 + y**2, [y,0,2 - x]),\n",
    "    [x,1,2])"
   ]
  },
  {
   "cell_type": "code",
   "execution_count": null,
   "metadata": {
    "collapsed": true
   },
   "outputs": [],
   "source": []
  }
 ],
 "metadata": {
  "kernelspec": {
   "display_name": "Python 2",
   "language": "python",
   "name": "python2"
  },
  "language_info": {
   "codemirror_mode": {
    "name": "ipython",
    "version": 2
   },
   "file_extension": ".py",
   "mimetype": "text/x-python",
   "name": "python",
   "nbconvert_exporter": "python",
   "pygments_lexer": "ipython2",
   "version": "2.7.13"
  }
 },
 "nbformat": 4,
 "nbformat_minor": 2
}
