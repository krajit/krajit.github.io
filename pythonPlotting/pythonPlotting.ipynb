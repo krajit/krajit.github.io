{
 "cells": [
  {
   "cell_type": "code",
   "execution_count": 1,
   "metadata": {
    "collapsed": false
   },
   "outputs": [],
   "source": [
    "\n",
    "\n",
    "import numpy\n",
    "from mayavi.mlab import *\n",
    "\n",
    "def test_quiver3d():\n",
    "    x, y, z = numpy.mgrid[-2:3, -2:3, -2:3]\n",
    "    r = numpy.sqrt(x ** 2 + y ** 2 + z ** 4)\n",
    "    u = y * numpy.sin(r) / (r + 0.001)\n",
    "    v = -x * numpy.sin(r) / (r + 0.001)\n",
    "    w = numpy.zeros_like(z)\n",
    "    obj = quiver3d(x, y, z, u, v, w, line_width=3, scale_factor=1)\n",
    "    return obj"
   ]
  },
  {
   "cell_type": "code",
   "execution_count": null,
   "metadata": {
    "collapsed": true
   },
   "outputs": [],
   "source": []
  }
 ],
 "metadata": {
  "kernelspec": {
   "display_name": "Python 2",
   "language": "python",
   "name": "python2"
  },
  "language_info": {
   "codemirror_mode": {
    "name": "ipython",
    "version": 2
   },
   "file_extension": ".py",
   "mimetype": "text/x-python",
   "name": "python",
   "nbconvert_exporter": "python",
   "pygments_lexer": "ipython2",
   "version": "2.7.13"
  }
 },
 "nbformat": 4,
 "nbformat_minor": 2
}
